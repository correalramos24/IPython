{
 "cells": [
  {
   "cell_type": "markdown",
   "metadata": {},
   "source": [
    "# NUMPY"
   ]
  },
  {
   "cell_type": "code",
   "execution_count": 6,
   "metadata": {},
   "outputs": [],
   "source": [
    "#Print all output statements\n",
    "from IPython.core.interactiveshell import InteractiveShell\n",
    "InteractiveShell.ast_node_interactivity = \"all\"\n",
    "\n",
    "# Library import\n",
    "import numpy as np"
   ]
  },
  {
   "cell_type": "markdown",
   "metadata": {},
   "source": [
    "## Numbers generation\n",
    "* Same of Python `range` method, Numpy provides the `arange` and `linspace` method.\n",
    "* It's not a good idea to use `arange` with floating point arguments, use linspace instead."
   ]
  },
  {
   "cell_type": "code",
   "execution_count": 14,
   "metadata": {},
   "outputs": [
    {
     "data": {
      "text/plain": [
       "(numpy.ndarray, numpy.ndarray)"
      ]
     },
     "execution_count": 14,
     "metadata": {},
     "output_type": "execute_result"
    },
    {
     "data": {
      "text/plain": [
       "(array([0, 1, 2, 3, 4, 5, 6, 7, 8, 9]), array([ 1. ,  5.5, 10. ]))"
      ]
     },
     "execution_count": 14,
     "metadata": {},
     "output_type": "execute_result"
    }
   ],
   "source": [
    "# Examples:\n",
    "a = np.arange(10)\n",
    "b = np.linspace(1, 10, 3)\n",
    "type(a), type(b)\n",
    "a, b"
   ]
  },
  {
   "cell_type": "markdown",
   "metadata": {},
   "source": [
    "## Arrays\n",
    "\n",
    "The main object in Numpy is the homogeneous multidimensional array, `ndarray`. This object contains an array defined with:\n",
    "\n",
    "* Dimensions are called *axes* (2-D, 3-D, etc...).\n",
    "* The *shape* of a multidimensional array corresponds with the lenght of each *axe* (3x3, 4x5, 3x3x3).\n",
    "\n",
    "It also have pre-defined print methods for a nice looking into the output.\n",
    "\n",
    "### Creation\n",
    "To build an array you can use `np.array` to create a new array object from a Python list or tuple or a pre-defined Numpy array\n",
    "\n",
    "* `zeros(tuple-shape)`\n",
    "* `ones(tuple-shape)`\n",
    "* `empty(tuple-shape)`"
   ]
  },
  {
   "cell_type": "code",
   "execution_count": 49,
   "metadata": {},
   "outputs": [
    {
     "data": {
      "text/plain": [
       "array([1, 2, 3, 4])"
      ]
     },
     "execution_count": 49,
     "metadata": {},
     "output_type": "execute_result"
    },
    {
     "data": {
      "text/plain": [
       "(3, 3, 3)"
      ]
     },
     "execution_count": 49,
     "metadata": {},
     "output_type": "execute_result"
    },
    {
     "data": {
      "text/plain": [
       "numpy.ndarray"
      ]
     },
     "execution_count": 49,
     "metadata": {},
     "output_type": "execute_result"
    },
    {
     "name": "stdout",
     "output_type": "stream",
     "text": [
      "[[[0. 0. 0.]\n",
      "  [0. 0. 0.]\n",
      "  [0. 0. 0.]]\n",
      "\n",
      " [[0. 0. 0.]\n",
      "  [0. 0. 0.]\n",
      "  [0. 0. 0.]]\n",
      "\n",
      " [[0. 0. 0.]\n",
      "  [0. 0. 0.]\n",
      "  [0. 0. 0.]]]\n"
     ]
    },
    {
     "data": {
      "text/plain": [
       "((3, 3, 3), 3, 'float64', 27)"
      ]
     },
     "execution_count": 49,
     "metadata": {},
     "output_type": "execute_result"
    }
   ],
   "source": [
    "A_from_tuple = np.array((1,2,3,4))\n",
    "A_from_list = np.array([[1,2,3,4], [1,2,3,4]])\n",
    "\n",
    "z = np.zeros((3,3,3))\n",
    "A_from_tuple\n",
    "z.shape\n",
    "type(z)\n",
    "print(z)\n",
    "\n",
    "#Shape of the array, dimensions, datatype, total num. elements\n",
    "z.shape, z.ndim, z.dtype.name, z.size"
   ]
  },
  {
   "cell_type": "markdown",
   "metadata": {},
   "source": [
    "### Indexin, slicing and iterating\n",
    "\n",
    "Arrays can be accessed, depending the dimensions of the array:\n",
    "\n",
    "* One-dimensional arrays: Accessed like python list.\n",
    "* Multi-dimensional arrays: Accessed with one index per axis, separated with commas.\n",
    "\n",
    "Arrays can be iterated with the Python `for` statement (iterate per row) or with the `flat` method (iterate each element).\n"
   ]
  },
  {
   "cell_type": "code",
   "execution_count": 64,
   "metadata": {},
   "outputs": [
    {
     "data": {
      "text/plain": [
       "array([[ 0,  1,  2,  3,  4,  5,  6,  7,  8,  9],\n",
       "       [10, 11, 12, 13, 14, 15, 16, 17, 18, 19]])"
      ]
     },
     "execution_count": 64,
     "metadata": {},
     "output_type": "execute_result"
    },
    {
     "data": {
      "text/plain": [
       "14"
      ]
     },
     "execution_count": 64,
     "metadata": {},
     "output_type": "execute_result"
    },
    {
     "data": {
      "text/plain": [
       "array([ 3, 13])"
      ]
     },
     "execution_count": 64,
     "metadata": {},
     "output_type": "execute_result"
    },
    {
     "name": "stdout",
     "output_type": "stream",
     "text": [
      "[0 1 2 3 4 5 6 7 8 9]\n",
      "[10 11 12 13 14 15 16 17 18 19]\n",
      "0 1 2 3 4 5 6 7 8 9 10 11 12 13 14 15 16 17 18 19 "
     ]
    }
   ],
   "source": [
    "a = np.arange(20).reshape(2,10)\n",
    "a\n",
    "a[1,4]\n",
    "a[:,3]\n",
    "\n",
    "for row in a:\n",
    "    print(row)\n",
    "for element in a.flat:\n",
    "    print(element, end=\" \")"
   ]
  },
  {
   "cell_type": "markdown",
   "metadata": {},
   "source": [
    "### Basic operations\n",
    "\n",
    "The arrays can operated with different operators; the results are stored into a new array object.\n",
    "\n",
    "* Arithmetic element-wise operators: `+`,`-`,`/`,`*`,`**`\n",
    "* Boolean element-wise operators: Greather than, Greather or equal than, equal than, less than, etc...\n",
    "* Matrix product operator: `@`\n",
    "* Universal functions `ufunc`: Mathematical functions as `sin`, `cos`, `exp`, etc...\n",
    "\n",
    "> Attention: Be careful with the shapes of the operands!\n",
    "\n",
    "![Alt text](resources/numpy_ufunc.png)\n",
    "\n",
    "There are also array operations:\n",
    "\n",
    "* reshape: `.reshape(new-shape)` With an axe with -1 the other is automatically calculated.\n",
    "* transpose: `.T`\n",
    "* flatten: `.ravel()`\n",
    "* Stack arrays same axes: Can be added vertically `vstack` or horitzonall `hstack`.\n",
    "* Stack 1D arrays: `column_stack` will stack 1D arrays into 2D arrays.\n",
    "* Split arrays: `np.hsplit()` will split horitzonal and `np.vsplit()`\n"
   ]
  },
  {
   "cell_type": "code",
   "execution_count": 65,
   "metadata": {},
   "outputs": [
    {
     "data": {
      "text/plain": [
       "(array([0, 1, 2, 3]), array([5, 6, 7, 8]))"
      ]
     },
     "execution_count": 65,
     "metadata": {},
     "output_type": "execute_result"
    },
    {
     "data": {
      "text/plain": [
       "array([ 5,  7,  9, 11])"
      ]
     },
     "execution_count": 65,
     "metadata": {},
     "output_type": "execute_result"
    }
   ],
   "source": [
    "A = np.arange(4)\n",
    "B = np.arange(5, 9)\n",
    "A, B\n",
    "C = A+B\n",
    "C"
   ]
  },
  {
   "cell_type": "markdown",
   "metadata": {},
   "source": [
    "### Numpy object copies\n",
    "* Simple assignments **doesn't make a copy**.\n",
    "* `view()` method creates an new array object that **points to the same data**.\n",
    "* `copy()` method creates a deep copy of the object, so **it doesn't point to the same data**.\n",
    "* An array slicing also returns a `view` to the initial array object.\n",
    "> REMEMBER: Python passes mutable objects as references, function call make no copies."
   ]
  },
  {
   "cell_type": "code",
   "execution_count": 78,
   "metadata": {},
   "outputs": [
    {
     "data": {
      "text/plain": [
       "True"
      ]
     },
     "execution_count": 78,
     "metadata": {},
     "output_type": "execute_result"
    },
    {
     "data": {
      "text/plain": [
       "False"
      ]
     },
     "execution_count": 78,
     "metadata": {},
     "output_type": "execute_result"
    },
    {
     "name": "stdout",
     "output_type": "stream",
     "text": [
      "[0 1 2 3] [0 1 2 3] [0 1 2 3]\n",
      "[ 0  1  2 33] [ 0  1  2 33] [0 1 2 3]\n"
     ]
    }
   ],
   "source": [
    "A = np.arange(4)\n",
    "B = A #This is a view!\n",
    "C = A.copy() #This is a copy!\n",
    "id(A) == id(B)\n",
    "id(A) == id(C)\n",
    "print(A, B, C)\n",
    "A[3] = 33\n",
    "print(A, B, C)"
   ]
  }
 ],
 "metadata": {
  "kernelspec": {
   "display_name": "Python 3",
   "language": "python",
   "name": "python3"
  },
  "language_info": {
   "codemirror_mode": {
    "name": "ipython",
    "version": 3
   },
   "file_extension": ".py",
   "mimetype": "text/x-python",
   "name": "python",
   "nbconvert_exporter": "python",
   "pygments_lexer": "ipython3",
   "version": "3.6.15"
  }
 },
 "nbformat": 4,
 "nbformat_minor": 2
}
