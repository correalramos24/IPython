{
  "nbformat": 4,
  "nbformat_minor": 0,
  "metadata": {
    "colab": {
      "provenance": [],
      "authorship_tag": "ABX9TyMWEOLXFCSDWLMUg+Py+ABU",
      "include_colab_link": true
    },
    "kernelspec": {
      "name": "python3",
      "display_name": "Python 3"
    },
    "language_info": {
      "name": "python"
    }
  },
  "cells": [
    {
      "cell_type": "markdown",
      "metadata": {
        "id": "view-in-github",
        "colab_type": "text"
      },
      "source": [
        "<a href=\"https://colab.research.google.com/github/correalramos24/IPython/blob/main/Main.ipynb\" target=\"_parent\"><img src=\"https://colab.research.google.com/assets/colab-badge.svg\" alt=\"Open In Colab\"/></a>"
      ]
    },
    {
      "cell_type": "markdown",
      "source": [
        "# MAIN iPYTHON NOTEBOOK"
      ],
      "metadata": {
        "id": "Wp9cFgaQo_xH"
      }
    },
    {
      "cell_type": "code",
      "source": [],
      "metadata": {
        "id": "D-7AoSvusaHQ"
      },
      "execution_count": null,
      "outputs": []
    },
    {
      "cell_type": "code",
      "execution_count": null,
      "metadata": {
        "id": "l-A6AdXgokVe"
      },
      "outputs": [],
      "source": [
        "# Print everything without print statement\n",
        "from IPython.core.interactiveshell import InteractiveShell\n",
        "InteractiveShell.ast_node_interactivity = \"all\""
      ]
    },
    {
      "cell_type": "markdown",
      "source": [
        "## CHECK PEP-8 syntaxis"
      ],
      "metadata": {
        "id": "0FmjIrSXqdPw"
      }
    },
    {
      "cell_type": "code",
      "source": [
        "# Enable PEP-8 checks -> from https://github.com/nbpep8/nbpep8\n",
        "!pip install pycodestyle\n",
        "!pip install --index-url https://test.pypi.org/simple/ nbpep8\n",
        "\n",
        "from nbpep8.nbpep8 import pep8\n",
        "\n",
        "def check_cell_pep8():\n",
        "  pep8(_ih)"
      ],
      "metadata": {
        "colab": {
          "base_uri": "https://localhost:8080/"
        },
        "id": "-U8Qf7g3qQSN",
        "outputId": "1bfc1bff-ceb2-4f42-9d0b-b11b6784c031"
      },
      "execution_count": null,
      "outputs": [
        {
          "output_type": "stream",
          "name": "stdout",
          "text": [
            "Requirement already satisfied: pycodestyle in /usr/local/lib/python3.10/dist-packages (2.11.1)\n",
            "Looking in indexes: https://test.pypi.org/simple/\n",
            "Requirement already satisfied: nbpep8 in /usr/local/lib/python3.10/dist-packages (0.0.15)\n"
          ]
        }
      ]
    },
    {
      "cell_type": "markdown",
      "source": [
        "The next cell shows an example of usage:"
      ],
      "metadata": {
        "id": "agqziki2qlNj"
      }
    },
    {
      "cell_type": "code",
      "source": [
        "import os,sys\n",
        "a =  23\n",
        "\n",
        "check_cell_pep8()"
      ],
      "metadata": {
        "colab": {
          "base_uri": "https://localhost:8080/"
        },
        "id": "2ljiWN7YqBTx",
        "outputId": "9178fd43-3c93-4252-ce29-c25497694f98"
      },
      "execution_count": null,
      "outputs": [
        {
          "output_type": "stream",
          "name": "stdout",
          "text": [
            "cell_content.py:1:10: E231 missing whitespace after ','\n",
            "cell_content.py:1:10: E401 multiple imports on one line\n",
            "cell_content.py:2:4: E222 multiple spaces after operator\n",
            "\n"
          ]
        }
      ]
    },
    {
      "cell_type": "markdown",
      "source": [
        "## Debugging\n",
        "To debug in google colab, we can use ..."
      ],
      "metadata": {
        "id": "h5dYldsZq2GN"
      }
    },
    {
      "cell_type": "markdown",
      "source": [],
      "metadata": {
        "id": "vtOEajo3q8I8"
      }
    }
  ]
}