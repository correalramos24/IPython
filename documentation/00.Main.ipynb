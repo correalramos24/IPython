{
  "cells": [
    {
      "cell_type": "markdown",
      "metadata": {
        "id": "Wp9cFgaQo_xH"
      },
      "source": [
        "# MAIN iPYTHON NOTEBOOK"
      ]
    },
    {
      "cell_type": "markdown",
      "metadata": {},
      "source": [
        "This notebook contains examples of who to use the Interactive python"
      ]
    },
    {
      "cell_type": "code",
      "execution_count": null,
      "metadata": {
        "id": "l-A6AdXgokVe"
      },
      "outputs": [],
      "source": [
        "# Print everything without print statement\n",
        "from IPython.core.interactiveshell import InteractiveShell\n",
        "InteractiveShell.ast_node_interactivity = \"all\""
      ]
    },
    {
      "cell_type": "markdown",
      "metadata": {
        "id": "0FmjIrSXqdPw"
      },
      "source": [
        "## CHECK PEP-8 syntaxis"
      ]
    },
    {
      "cell_type": "code",
      "execution_count": null,
      "metadata": {
        "colab": {
          "base_uri": "https://localhost:8080/"
        },
        "id": "-U8Qf7g3qQSN",
        "outputId": "1bfc1bff-ceb2-4f42-9d0b-b11b6784c031"
      },
      "outputs": [
        {
          "name": "stdout",
          "output_type": "stream",
          "text": [
            "Requirement already satisfied: pycodestyle in /usr/local/lib/python3.10/dist-packages (2.11.1)\n",
            "Looking in indexes: https://test.pypi.org/simple/\n",
            "Requirement already satisfied: nbpep8 in /usr/local/lib/python3.10/dist-packages (0.0.15)\n"
          ]
        }
      ],
      "source": [
        "# Enable PEP-8 checks -> from https://github.com/nbpep8/nbpep8\n",
        "!pip install pycodestyle\n",
        "!pip install --index-url https://test.pypi.org/simple/ nbpep8\n",
        "\n",
        "from nbpep8.nbpep8 import pep8\n",
        "\n",
        "def check_cell_pep8():\n",
        "  pep8(_ih)"
      ]
    },
    {
      "cell_type": "markdown",
      "metadata": {
        "id": "agqziki2qlNj"
      },
      "source": [
        "The next cell shows an example of usage:"
      ]
    },
    {
      "cell_type": "code",
      "execution_count": null,
      "metadata": {
        "colab": {
          "base_uri": "https://localhost:8080/"
        },
        "id": "2ljiWN7YqBTx",
        "outputId": "9178fd43-3c93-4252-ce29-c25497694f98"
      },
      "outputs": [
        {
          "name": "stdout",
          "output_type": "stream",
          "text": [
            "cell_content.py:1:10: E231 missing whitespace after ','\n",
            "cell_content.py:1:10: E401 multiple imports on one line\n",
            "cell_content.py:2:4: E222 multiple spaces after operator\n",
            "\n"
          ]
        }
      ],
      "source": [
        "import os,sys\n",
        "a =  23\n",
        "\n",
        "check_cell_pep8()"
      ]
    },
    {
      "cell_type": "markdown",
      "metadata": {
        "id": "h5dYldsZq2GN"
      },
      "source": [
        "## Debugging\n",
        "To debug in google colab, we can use ..."
      ]
    },
    {
      "cell_type": "markdown",
      "metadata": {
        "id": "vtOEajo3q8I8"
      },
      "source": []
    }
  ],
  "metadata": {
    "colab": {
      "authorship_tag": "ABX9TyMWEOLXFCSDWLMUg+Py+ABU",
      "include_colab_link": true,
      "provenance": []
    },
    "kernelspec": {
      "display_name": "Python 3",
      "name": "python3"
    },
    "language_info": {
      "name": "python"
    }
  },
  "nbformat": 4,
  "nbformat_minor": 0
}
