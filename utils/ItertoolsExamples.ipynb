{
 "cells": [
  {
   "cell_type": "markdown",
   "metadata": {},
   "source": [
    "# Functional programming\n"
   ]
  },
  {
   "cell_type": "code",
   "execution_count": 5,
   "metadata": {},
   "outputs": [],
   "source": [
    "from IPython.core.interactiveshell import InteractiveShell\n",
    "InteractiveShell.ast_node_interactivity = \"all\"\n",
    "l = [1,2,3,4,5,6,7]"
   ]
  },
  {
   "cell_type": "markdown",
   "metadata": {},
   "source": [
    "## Generators\n",
    "Every function that contains the `yield` keyword is a generator"
   ]
  },
  {
   "cell_type": "code",
   "execution_count": 6,
   "metadata": {},
   "outputs": [],
   "source": [
    "#Define a generator, use the yield keywor\n",
    "def genN(n):\n",
    "    ret = 0\n",
    "    yield ret\n",
    "    while True:\n",
    "        if ret < n:\n",
    "            ret += 1\n",
    "            yield ret   #Get the next\n",
    "        else:\n",
    "            return ret  #End the iterator"
   ]
  },
  {
   "cell_type": "code",
   "execution_count": 7,
   "metadata": {},
   "outputs": [
    {
     "name": "stdout",
     "output_type": "stream",
     "text": [
      "0 1 2 3 4 "
     ]
    }
   ],
   "source": [
    "g = genN(4)\n",
    "while True:\n",
    "    x = next(g, None)\n",
    "    if x is None:\n",
    "        break\n",
    "    else: print(x, end= \" \")\n",
    "\n"
   ]
  },
  {
   "cell_type": "markdown",
   "metadata": {},
   "source": [
    "## Iterators\n",
    "Iterators are kind of group of elemens that provides an interface to interact with.\n",
    "\n",
    "We can generate iterators with `iter`. The iterators can be converted into tuple or list.\n",
    "\n",
    "Also, our objects can implement this interface."
   ]
  },
  {
   "cell_type": "code",
   "execution_count": 8,
   "metadata": {},
   "outputs": [
    {
     "name": "stdout",
     "output_type": "stream",
     "text": [
      "1 2 3 4 5 6 7 \n",
      "For-each:\n",
      "1 2 3 4 5 6 7 \n",
      "Tuple:\n",
      "(1, 2, 3, 4, 5, 6, 7) <class 'tuple'>\n"
     ]
    }
   ],
   "source": [
    "it = iter(l)\n",
    "#Loop until the StopIteration exception:\n",
    "while True:\n",
    "    try:\n",
    "        print(next(it), end=\" \")\n",
    "    except: \n",
    "        break\n",
    "\n",
    "print(\"\\nFor-each:\")\n",
    "#for each:\n",
    "for i in iter(l):\n",
    "    print(i, end=\" \")\n",
    "print(\"\\nTuple:\")\n",
    "t = tuple(iter(l))\n",
    "print(t, type(t))"
   ]
  },
  {
   "cell_type": "code",
   "execution_count": 9,
   "metadata": {},
   "outputs": [
    {
     "name": "stdout",
     "output_type": "stream",
     "text": [
      "1 2 3 4 generator exhausted\n"
     ]
    }
   ],
   "source": [
    "class myClass:\n",
    "    def __init__(self, start, end, step=1):\n",
    "        self.start=start\n",
    "        self.step=step\n",
    "        self.end=end\n",
    "        self.actual=start\n",
    "    \n",
    "    def __iter__(self):\n",
    "        #return a new iterator:\n",
    "        self.actual=0\n",
    "        return self\n",
    "\n",
    "    def __next__(self):\n",
    "        #return the next element, StopIteration when finished\n",
    "        if self.actual <= self.end:\n",
    "            ret = self.actual\n",
    "            self.actual += self.step\n",
    "            return ret\n",
    "        else:\n",
    "            raise StopIteration\n",
    "m = myClass(1, 4)\n",
    "try:\n",
    "    while(True):\n",
    "        print(next(m), end=\" \")\n",
    "\n",
    "except:\n",
    "    print(\"generator exhausted\")"
   ]
  },
  {
   "cell_type": "markdown",
   "metadata": {},
   "source": [
    "## Built-in functions\n",
    "* `map       (f, iterA, iterB, ...)`  Returns an iterator over the sequence\n",
    "* `filter    (f, iterA, iterB, ...)`  Returns an iterator over the sequence that return truth\n",
    "* `enumerate (iter, start=0)`         Returns the index of each element in the iteration\n",
    "* `zip(iterA, iterB, ...)`            Returns one element of each iterator inside a tuple (uses lazy evaluation)"
   ]
  },
  {
   "cell_type": "code",
   "execution_count": 10,
   "metadata": {},
   "outputs": [
    {
     "data": {
      "text/plain": [
       "[2, 4, 6, 8, 10, 12, 14]"
      ]
     },
     "execution_count": 10,
     "metadata": {},
     "output_type": "execute_result"
    },
    {
     "data": {
      "text/plain": [
       "[2, 4, 6]"
      ]
     },
     "execution_count": 10,
     "metadata": {},
     "output_type": "execute_result"
    },
    {
     "data": {
      "text/plain": [
       "[2, 4, 6]"
      ]
     },
     "execution_count": 10,
     "metadata": {},
     "output_type": "execute_result"
    },
    {
     "name": "stdout",
     "output_type": "stream",
     "text": [
      "1 0\n",
      "2 1\n",
      "3 2\n"
     ]
    }
   ],
   "source": [
    "list(map(lambda x : x * 2, l))\n",
    "list(filter(lambda x : x % 2 == 0, l))\n",
    "#Or we can the comprehension list form:\n",
    "is_even2 = lambda x : x%2==0\n",
    "[x for x in l if is_even2(x)]\n",
    "\n",
    "for i, item in enumerate([1,2,3]):\n",
    "    print(item, i)"
   ]
  },
  {
   "cell_type": "markdown",
   "metadata": {},
   "source": [
    "### Any and all methods\n",
    "`any(iter)` Returns true if any value is True.\n",
    "\n",
    "`all(iter)` Returns true if all the values are True."
   ]
  },
  {
   "cell_type": "code",
   "execution_count": 11,
   "metadata": {},
   "outputs": [
    {
     "data": {
      "text/plain": [
       "True"
      ]
     },
     "execution_count": 11,
     "metadata": {},
     "output_type": "execute_result"
    },
    {
     "data": {
      "text/plain": [
       "False"
      ]
     },
     "execution_count": 11,
     "metadata": {},
     "output_type": "execute_result"
    },
    {
     "data": {
      "text/plain": [
       "True"
      ]
     },
     "execution_count": 11,
     "metadata": {},
     "output_type": "execute_result"
    }
   ],
   "source": [
    "# Interesting to concatenate methods:\n",
    "all(map(lambda x : x % 2 == 0, range(0, 10, 2)))\n",
    "all(map(lambda x : x % 2 == 0, range(0, 10, 1)))\n",
    "any(map(lambda x : x % 2 == 0, range(0, 10, 1)))"
   ]
  },
  {
   "cell_type": "markdown",
   "metadata": {},
   "source": [
    "## itertools module\n",
    "Contains commonly-used iterators functions, inspired in Haskell and other languages.\n",
    "\n"
   ]
  },
  {
   "cell_type": "code",
   "execution_count": 18,
   "metadata": {},
   "outputs": [
    {
     "name": "stdout",
     "output_type": "stream",
     "text": [
      "input: [1, 2, 3, 4, 5, 6, 7]\n",
      "accumulate:\n",
      "[1, 3, 6, 10, 15, 21, 28]\n"
     ]
    }
   ],
   "source": [
    "import itertools\n",
    "print(\"input:\", l)\n",
    "print(\"accumulate:\")\n",
    "print(list(itertools.accumulate(l, lambda x, y : x+y)))"
   ]
  },
  {
   "cell_type": "markdown",
   "metadata": {},
   "source": [
    "### Infinite iterators\n",
    "Also there are some infinite iterators"
   ]
  },
  {
   "cell_type": "code",
   "execution_count": 29,
   "metadata": {},
   "outputs": [
    {
     "data": {
      "text/plain": [
       "4"
      ]
     },
     "execution_count": 29,
     "metadata": {},
     "output_type": "execute_result"
    },
    {
     "data": {
      "text/plain": [
       "5"
      ]
     },
     "execution_count": 29,
     "metadata": {},
     "output_type": "execute_result"
    },
    {
     "name": "stdout",
     "output_type": "stream",
     "text": [
      "A B C D A B C D A B C D \n",
      "10 10 10 10 10 10 10 10 10 10 10 10 "
     ]
    }
   ],
   "source": [
    "# Count from 4 to ininity\n",
    "f_inf = itertools.count(4)\n",
    "next(f_inf)\n",
    "next(f_inf)\n",
    "\n",
    "# Cycle the input iterator\n",
    "f_cycle = itertools.cycle('ABCD')\n",
    "for i in range(12):\n",
    "    print(next(f_cycle), end=\" \")\n",
    "print()\n",
    "\n",
    "#Repeat, or repeat n times (as second arg)\n",
    "f_repeat = itertools.repeat(10)\n",
    "for i in range(12):\n",
    "    print(next(f_repeat), end=\" \")"
   ]
  },
  {
   "cell_type": "markdown",
   "metadata": {},
   "source": [
    "## functools module\n",
    "Contains other high-order functions"
   ]
  },
  {
   "cell_type": "code",
   "execution_count": 34,
   "metadata": {},
   "outputs": [
    {
     "name": "stdout",
     "output_type": "stream",
     "text": [
      "input: [1, 2, 3, 4, 5, 6, 7]\n",
      "38\n"
     ]
    }
   ],
   "source": [
    "import functools\n",
    "print(\"input:\", l)\n",
    "print(functools.reduce(lambda x, y : x + y, l, 10))"
   ]
  },
  {
   "cell_type": "markdown",
   "metadata": {},
   "source": [
    "## operator module\n",
    "\n",
    "This module contains a set of functions, corresponding to intrinsic operations in Python"
   ]
  },
  {
   "cell_type": "code",
   "execution_count": 43,
   "metadata": {},
   "outputs": [
    {
     "data": {
      "text/plain": [
       "True"
      ]
     },
     "execution_count": 43,
     "metadata": {},
     "output_type": "execute_result"
    },
    {
     "data": {
      "text/plain": [
       "True"
      ]
     },
     "execution_count": 43,
     "metadata": {},
     "output_type": "execute_result"
    }
   ],
   "source": [
    "import operator\n",
    "operator.le(2,3)\n",
    "#The idea is to use instead or in collaboration with the lambda functions:\n",
    "all(map(lambda x: operator.le(-34, x), range(0, 10, 2)))"
   ]
  }
 ],
 "metadata": {
  "interpreter": {
   "hash": "31f2aee4e71d21fbe5cf8b01ff0e069b9275f58929596ceb00d14d90e3e16cd6"
  },
  "kernelspec": {
   "display_name": "Python 3.8.10 64-bit",
   "language": "python",
   "name": "python3"
  },
  "language_info": {
   "codemirror_mode": {
    "name": "ipython",
    "version": 3
   },
   "file_extension": ".py",
   "mimetype": "text/x-python",
   "name": "python",
   "nbconvert_exporter": "python",
   "pygments_lexer": "ipython3",
   "version": "3.8.10"
  },
  "orig_nbformat": 4
 },
 "nbformat": 4,
 "nbformat_minor": 2
}
